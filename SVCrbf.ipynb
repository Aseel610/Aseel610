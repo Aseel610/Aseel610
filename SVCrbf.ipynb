{
  "nbformat": 4,
  "nbformat_minor": 0,
  "metadata": {
    "colab": {
      "name": "Untitled9.ipynb",
      "provenance": []
    },
    "kernelspec": {
      "name": "python3",
      "display_name": "Python 3"
    }
  },
  "cells": [
    {
      "cell_type": "markdown",
      "metadata": {
        "id": "SLpj08XNcm2b"
      },
      "source": [
        "**Insert Important Libraries**"
      ]
    },
    {
      "cell_type": "code",
      "metadata": {
        "colab": {
          "base_uri": "https://localhost:8080/"
        },
        "id": "Zo1zfSEdBURu",
        "outputId": "1919d404-0aa9-4c1f-a862-b2047ca2b76f"
      },
      "source": [
        "import pandas as pd\n",
        "import re\n",
        "import numpy as np\n",
        "import matplotlib.pyplot as plt\n",
        "from nltk.corpus import stopwords\n",
        "from nltk.stem import PorterStemmer\n",
        "from sklearn.feature_extraction.text import TfidfVectorizer\n",
        "from sklearn.pipeline import Pipeline\n",
        "from sklearn.metrics import classification_report, confusion_matrix\n",
        "from sklearn.model_selection import train_test_split\n",
        "from sklearn.feature_selection import SelectKBest, chi2\n",
        "from sklearn.tree import DecisionTreeClassifier\n",
        "from sklearn.naive_bayes import GaussianNB\n",
        "from sklearn.svm import SVC\n",
        "from sqlite3 import Error\n",
        "from sklearn.ensemble import RandomForestClassifier\n",
        "import sqlite3\n",
        "import pickle\n",
        "import nltk\n",
        "nltk.download('stopwords')"
      ],
      "execution_count": 25,
      "outputs": [
        {
          "output_type": "stream",
          "text": [
            "[nltk_data] Downloading package stopwords to /root/nltk_data...\n",
            "[nltk_data]   Package stopwords is already up-to-date!\n"
          ],
          "name": "stdout"
        },
        {
          "output_type": "execute_result",
          "data": {
            "text/plain": [
              "True"
            ]
          },
          "metadata": {
            "tags": []
          },
          "execution_count": 25
        }
      ]
    },
    {
      "cell_type": "markdown",
      "metadata": {
        "id": "URcbs2c8cuao"
      },
      "source": [
        "**Explore the Dataset**"
      ]
    },
    {
      "cell_type": "code",
      "metadata": {
        "colab": {
          "base_uri": "https://localhost:8080/",
          "height": 195
        },
        "id": "X5hMrm22ZHOy",
        "outputId": "0f276782-088a-46f5-f47c-a00fd0bd4008"
      },
      "source": [
        "df = pd.read_csv('/content/drive/My Drive/dataset1.csv')\n",
        "df.drop(['ProjectID'], 1, inplace=True)\n",
        "df.head()"
      ],
      "execution_count": 26,
      "outputs": [
        {
          "output_type": "execute_result",
          "data": {
            "text/html": [
              "<div>\n",
              "<style scoped>\n",
              "    .dataframe tbody tr th:only-of-type {\n",
              "        vertical-align: middle;\n",
              "    }\n",
              "\n",
              "    .dataframe tbody tr th {\n",
              "        vertical-align: top;\n",
              "    }\n",
              "\n",
              "    .dataframe thead th {\n",
              "        text-align: right;\n",
              "    }\n",
              "</style>\n",
              "<table border=\"1\" class=\"dataframe\">\n",
              "  <thead>\n",
              "    <tr style=\"text-align: right;\">\n",
              "      <th></th>\n",
              "      <th>RequirementText</th>\n",
              "      <th>class</th>\n",
              "    </tr>\n",
              "  </thead>\n",
              "  <tbody>\n",
              "    <tr>\n",
              "      <th>0</th>\n",
              "      <td>The system shall refresh the display every 60 ...</td>\n",
              "      <td>PE</td>\n",
              "    </tr>\n",
              "    <tr>\n",
              "      <th>1</th>\n",
              "      <td>The application shall match the color of the s...</td>\n",
              "      <td>LF</td>\n",
              "    </tr>\n",
              "    <tr>\n",
              "      <th>2</th>\n",
              "      <td>If projected  the data must be readable.  On ...</td>\n",
              "      <td>US</td>\n",
              "    </tr>\n",
              "    <tr>\n",
              "      <th>3</th>\n",
              "      <td>The product shall be available during normal ...</td>\n",
              "      <td>A</td>\n",
              "    </tr>\n",
              "    <tr>\n",
              "      <th>4</th>\n",
              "      <td>If projected  the data must be understandable...</td>\n",
              "      <td>US</td>\n",
              "    </tr>\n",
              "  </tbody>\n",
              "</table>\n",
              "</div>"
            ],
            "text/plain": [
              "                                     RequirementText class\n",
              "0  The system shall refresh the display every 60 ...    PE\n",
              "1  The application shall match the color of the s...    LF\n",
              "2   If projected  the data must be readable.  On ...    US\n",
              "3   The product shall be available during normal ...     A\n",
              "4   If projected  the data must be understandable...    US"
            ]
          },
          "metadata": {
            "tags": []
          },
          "execution_count": 26
        }
      ]
    },
    {
      "cell_type": "markdown",
      "metadata": {
        "id": "AtSGFXIUc8Ti"
      },
      "source": [
        "**Group data by classes**"
      ]
    },
    {
      "cell_type": "code",
      "metadata": {
        "colab": {
          "base_uri": "https://localhost:8080/",
          "height": 285
        },
        "id": "aCM2n4jeZ2fF",
        "outputId": "084c9afb-be31-4b55-886e-2c80befe3cdc"
      },
      "source": [
        "df.groupby('class').count().plot.bar(ylim=0)\n",
        "plt.show()"
      ],
      "execution_count": 27,
      "outputs": [
        {
          "output_type": "display_data",
          "data": {
            "image/png": "[encoded data removed]",
            "text/plain": [
              "<Figure size 432x288 with 1 Axes>"
            ]
          },
          "metadata": {
            "tags": [],
            "needs_background": "light"
          }
        }
      ]
    },
    {
      "cell_type": "markdown",
      "metadata": {
        "id": "DN2_CHNldB3N"
      },
      "source": [
        "**Clean Dataset**"
      ]
    },
    {
      "cell_type": "code",
      "metadata": {
        "colab": {
          "base_uri": "https://localhost:8080/",
          "height": 229
        },
        "id": "lMev_-qBaOrC",
        "outputId": "d2b31bf9-0577-4f3e-b27b-7a1b57ce7f54"
      },
      "source": [
        "nltk.download('stopwords')\n",
        "stemmer = PorterStemmer()\n",
        "words = stopwords.words(\"english\")\n",
        "df['cleaned'] = df['RequirementText'].apply(lambda x: \" \".join([stemmer.stem(i) for i in re.sub(\"[^a-zA-Z]\", \" \", x).split() if i not in words]).lower())\n",
        "df.head()"
      ],
      "execution_count": 28,
      "outputs": [
        {
          "output_type": "stream",
          "text": [
            "[nltk_data] Downloading package stopwords to /root/nltk_data...\n",
            "[nltk_data]   Package stopwords is already up-to-date!\n"
          ],
          "name": "stdout"
        },
        {
          "output_type": "execute_result",
          "data": {
            "text/html": [
              "<div>\n",
              "<style scoped>\n",
              "    .dataframe tbody tr th:only-of-type {\n",
              "        vertical-align: middle;\n",
              "    }\n",
              "\n",
              "    .dataframe tbody tr th {\n",
              "        vertical-align: top;\n",
              "    }\n",
              "\n",
              "    .dataframe thead th {\n",
              "        text-align: right;\n",
              "    }\n",
              "</style>\n",
              "<table border=\"1\" class=\"dataframe\">\n",
              "  <thead>\n",
              "    <tr style=\"text-align: right;\">\n",
              "      <th></th>\n",
              "      <th>RequirementText</th>\n",
              "      <th>class</th>\n",
              "      <th>cleaned</th>\n",
              "    </tr>\n",
              "  </thead>\n",
              "  <tbody>\n",
              "    <tr>\n",
              "      <th>0</th>\n",
              "      <td>The system shall refresh the display every 60 ...</td>\n",
              "      <td>PE</td>\n",
              "      <td>the system shall refresh display everi second</td>\n",
              "    </tr>\n",
              "    <tr>\n",
              "      <th>1</th>\n",
              "      <td>The application shall match the color of the s...</td>\n",
              "      <td>LF</td>\n",
              "      <td>the applic shall match color schema set forth ...</td>\n",
              "    </tr>\n",
              "    <tr>\n",
              "      <th>2</th>\n",
              "      <td>If projected  the data must be readable.  On ...</td>\n",
              "      <td>US</td>\n",
              "      <td>if project data must readabl on x project scre...</td>\n",
              "    </tr>\n",
              "    <tr>\n",
              "      <th>3</th>\n",
              "      <td>The product shall be available during normal ...</td>\n",
              "      <td>A</td>\n",
              "      <td>the product shall avail normal busi hour as lo...</td>\n",
              "    </tr>\n",
              "    <tr>\n",
              "      <th>4</th>\n",
              "      <td>If projected  the data must be understandable...</td>\n",
              "      <td>US</td>\n",
              "      <td>if project data must understand on x project s...</td>\n",
              "    </tr>\n",
              "  </tbody>\n",
              "</table>\n",
              "</div>"
            ],
            "text/plain": [
              "                                     RequirementText  ...                                            cleaned\n",
              "0  The system shall refresh the display every 60 ...  ...      the system shall refresh display everi second\n",
              "1  The application shall match the color of the s...  ...  the applic shall match color schema set forth ...\n",
              "2   If projected  the data must be readable.  On ...  ...  if project data must readabl on x project scre...\n",
              "3   The product shall be available during normal ...  ...  the product shall avail normal busi hour as lo...\n",
              "4   If projected  the data must be understandable...  ...  if project data must understand on x project s...\n",
              "\n",
              "[5 rows x 3 columns]"
            ]
          },
          "metadata": {
            "tags": []
          },
          "execution_count": 28
        }
      ]
    },
    {
      "cell_type": "markdown",
      "metadata": {
        "id": "bCT9ntOmdJQT"
      },
      "source": [
        "**Print Features shape**"
      ]
    },
    {
      "cell_type": "code",
      "metadata": {
        "colab": {
          "base_uri": "https://localhost:8080/"
        },
        "id": "aewEu27taqAZ",
        "outputId": "c6ccf8ed-53bd-43ca-9fd8-ab9576afac6f"
      },
      "source": [
        "vectorizer = TfidfVectorizer(min_df= 3, stop_words=\"english\", sublinear_tf=True, norm='l2', ngram_range=(1, 2))\n",
        "final_features = vectorizer.fit_transform(df['cleaned']).toarray()\n",
        "final_features.shape"
      ],
      "execution_count": 29,
      "outputs": [
        {
          "output_type": "execute_result",
          "data": {
            "text/plain": [
              "(625, 734)"
            ]
          },
          "metadata": {
            "tags": []
          },
          "execution_count": 29
        }
      ]
    },
    {
      "cell_type": "markdown",
      "metadata": {
        "id": "dNKnOyKDdTxE"
      },
      "source": [
        "**Split Data and Train**"
      ]
    },
    {
      "cell_type": "code",
      "metadata": {
        "colab": {
          "base_uri": "https://localhost:8080/"
        },
        "id": "KWM3vpnTaxJ7",
        "outputId": "1aa661ff-9a32-4af2-96bd-f02e5f70dd26"
      },
      "source": [
        "#split the dataset into training and testing set \n",
        "X = df['cleaned']\n",
        "Y = df['class']\n",
        "X_train, X_test, y_train, y_test = train_test_split(X, Y, test_size=0.25)\n",
        "\n",
        "# instead of doing these steps one at a time, we can use a pipeline to complete then all at once\n",
        "pipeline = Pipeline([('vect', vectorizer),\n",
        "                     ('chi',  SelectKBest(chi2, k='all')),\n",
        "                     ('clf', SVC())])\n",
        "\n",
        "# fitting our model and save it in a pickle for later use\n",
        "model = pipeline.fit(X_train, y_train)\n",
        "with open('RandomForest.pickle', 'wb') as f:\n",
        "    pickle.dump(model, f)\n",
        "\n",
        "ytest = np.array(y_test)\n",
        "\n",
        "# confusion matrix and classification report(precision, recall, F1-score)\n",
        "print(classification_report(ytest, model.predict(X_test)))\n",
        "print(confusion_matrix(ytest, model.predict(X_test)))"
      ],
      "execution_count": 30,
      "outputs": [
        {
          "output_type": "stream",
          "text": [
            "              precision    recall  f1-score   support\n",
            "\n",
            "           A       0.67      0.50      0.57         4\n",
            "           F       0.52      1.00      0.68        63\n",
            "           L       1.00      0.50      0.67         2\n",
            "          LF       1.00      0.36      0.53        11\n",
            "          MN       0.00      0.00      0.00         7\n",
            "           O       0.86      0.32      0.46        19\n",
            "          PE       1.00      0.50      0.67        12\n",
            "          SC       1.00      0.17      0.29         6\n",
            "          SE       1.00      0.17      0.29        18\n",
            "          US       0.80      0.53      0.64        15\n",
            "\n",
            "    accuracy                           0.60       157\n",
            "   macro avg       0.78      0.40      0.48       157\n",
            "weighted avg       0.72      0.60      0.55       157\n",
            "\n",
            "[[ 2  2  0  0  0  0  0  0  0  0]\n",
            " [ 0 63  0  0  0  0  0  0  0  0]\n",
            " [ 0  1  1  0  0  0  0  0  0  0]\n",
            " [ 0  7  0  4  0  0  0  0  0  0]\n",
            " [ 0  6  0  0  0  1  0  0  0  0]\n",
            " [ 1 12  0  0  0  6  0  0  0  0]\n",
            " [ 0  6  0  0  0  0  6  0  0  0]\n",
            " [ 0  4  0  0  0  0  0  1  0  1]\n",
            " [ 0 14  0  0  0  0  0  0  3  1]\n",
            " [ 0  7  0  0  0  0  0  0  0  8]]\n"
          ],
          "name": "stdout"
        },
        {
          "output_type": "stream",
          "text": [
            "/usr/local/lib/python3.6/dist-packages/sklearn/metrics/_classification.py:1272: UndefinedMetricWarning: Precision and F-score are ill-defined and being set to 0.0 in labels with no predicted samples. Use `zero_division` parameter to control this behavior.\n",
            "  _warn_prf(average, modifier, msg_start, len(result))\n"
          ],
          "name": "stderr"
        }
      ]
    }
  ]
}