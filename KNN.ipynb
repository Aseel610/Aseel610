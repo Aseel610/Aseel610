{
  "nbformat": 4,
  "nbformat_minor": 0,
  "metadata": {
    "colab": {
      "name": "KNN.ipynb",
      "provenance": []
    },
    "kernelspec": {
      "name": "python3",
      "display_name": "Python 3"
    }
  },
  "cells": [
    {
      "cell_type": "markdown",
      "metadata": {
        "id": "SLpj08XNcm2b"
      },
      "source": [
        "**Insert Important Libraries**"
      ]
    },
    {
      "cell_type": "code",
      "metadata": {
        "colab": {
          "base_uri": "https://localhost:8080/"
        },
        "id": "Kk8m_bDwGFrj",
        "outputId": "d0528b41-e3eb-436e-94f1-9c26da9401bd"
      },
      "source": [
        "from google.colab import drive\n",
        "drive.mount('/content/drive')"
      ],
      "execution_count": 1,
      "outputs": [
        {
          "output_type": "stream",
          "text": [
            "Mounted at /content/drive\n"
          ],
          "name": "stdout"
        }
      ]
    },
    {
      "cell_type": "code",
      "metadata": {
        "colab": {
          "base_uri": "https://localhost:8080/"
        },
        "id": "Zo1zfSEdBURu",
        "outputId": "8ffff004-857f-4a40-f11b-745ad0af6884"
      },
      "source": [
        "import pandas as pd\n",
        "import re\n",
        "import numpy as np\n",
        "import matplotlib.pyplot as plt\n",
        "from nltk.corpus import stopwords\n",
        "from nltk.stem import PorterStemmer\n",
        "from sklearn.feature_extraction.text import TfidfVectorizer\n",
        "from sklearn.pipeline import Pipeline\n",
        "from sklearn.metrics import classification_report, confusion_matrix\n",
        "from sklearn.model_selection import train_test_split\n",
        "from sklearn.feature_selection import SelectKBest, chi2\n",
        "from sklearn.tree import DecisionTreeClassifier\n",
        "from sklearn.naive_bayes import GaussianNB\n",
        "from sklearn.svm import SVC\n",
        "from sklearn.neighbors import KNeighborsClassifier\n",
        "\n",
        "from sqlite3 import Error\n",
        "from sklearn.ensemble import RandomForestClassifier\n",
        "import sqlite3\n",
        "import pickle\n",
        "import nltk\n",
        "nltk.download('stopwords')"
      ],
      "execution_count": 2,
      "outputs": [
        {
          "output_type": "stream",
          "text": [
            "[nltk_data] Downloading package stopwords to /root/nltk_data...\n",
            "[nltk_data]   Unzipping corpora/stopwords.zip.\n"
          ],
          "name": "stdout"
        },
        {
          "output_type": "execute_result",
          "data": {
            "text/plain": [
              "True"
            ]
          },
          "metadata": {
            "tags": []
          },
          "execution_count": 2
        }
      ]
    },
    {
      "cell_type": "markdown",
      "metadata": {
        "id": "URcbs2c8cuao"
      },
      "source": [
        "**Explore the Dataset**"
      ]
    },
    {
      "cell_type": "code",
      "metadata": {
        "colab": {
          "base_uri": "https://localhost:8080/",
          "height": 195
        },
        "id": "X5hMrm22ZHOy",
        "outputId": "f9def89d-d488-4d2b-e960-ae12182088a5"
      },
      "source": [
        "df = pd.read_csv('/content/drive/My Drive/dataset1.csv')\n",
        "df.drop(['ProjectID'], 1, inplace=True)\n",
        "df.head()"
      ],
      "execution_count": 3,
      "outputs": [
        {
          "output_type": "execute_result",
          "data": {
            "text/html": [
              "<div>\n",
              "<style scoped>\n",
              "    .dataframe tbody tr th:only-of-type {\n",
              "        vertical-align: middle;\n",
              "    }\n",
              "\n",
              "    .dataframe tbody tr th {\n",
              "        vertical-align: top;\n",
              "    }\n",
              "\n",
              "    .dataframe thead th {\n",
              "        text-align: right;\n",
              "    }\n",
              "</style>\n",
              "<table border=\"1\" class=\"dataframe\">\n",
              "  <thead>\n",
              "    <tr style=\"text-align: right;\">\n",
              "      <th></th>\n",
              "      <th>RequirementText</th>\n",
              "      <th>class</th>\n",
              "    </tr>\n",
              "  </thead>\n",
              "  <tbody>\n",
              "    <tr>\n",
              "      <th>0</th>\n",
              "      <td>The system shall refresh the display every 60 ...</td>\n",
              "      <td>PE</td>\n",
              "    </tr>\n",
              "    <tr>\n",
              "      <th>1</th>\n",
              "      <td>The application shall match the color of the s...</td>\n",
              "      <td>LF</td>\n",
              "    </tr>\n",
              "    <tr>\n",
              "      <th>2</th>\n",
              "      <td>If projected  the data must be readable.  On ...</td>\n",
              "      <td>US</td>\n",
              "    </tr>\n",
              "    <tr>\n",
              "      <th>3</th>\n",
              "      <td>The product shall be available during normal ...</td>\n",
              "      <td>A</td>\n",
              "    </tr>\n",
              "    <tr>\n",
              "      <th>4</th>\n",
              "      <td>If projected  the data must be understandable...</td>\n",
              "      <td>US</td>\n",
              "    </tr>\n",
              "  </tbody>\n",
              "</table>\n",
              "</div>"
            ],
            "text/plain": [
              "                                     RequirementText class\n",
              "0  The system shall refresh the display every 60 ...    PE\n",
              "1  The application shall match the color of the s...    LF\n",
              "2   If projected  the data must be readable.  On ...    US\n",
              "3   The product shall be available during normal ...     A\n",
              "4   If projected  the data must be understandable...    US"
            ]
          },
          "metadata": {
            "tags": []
          },
          "execution_count": 3
        }
      ]
    },
    {
      "cell_type": "markdown",
      "metadata": {
        "id": "AtSGFXIUc8Ti"
      },
      "source": [
        "**Group data by classes**"
      ]
    },
    {
      "cell_type": "code",
      "metadata": {
        "colab": {
          "base_uri": "https://localhost:8080/",
          "height": 285
        },
        "id": "aCM2n4jeZ2fF",
        "outputId": "25a2adfb-d41c-4302-a402-f493361c9b9e"
      },
      "source": [
        "df.groupby('class').count().plot.bar(ylim=0)\n",
        "plt.show()"
      ],
      "execution_count": 4,
      "outputs": [
        {
          "output_type": "display_data",
          "data": {
            "image/png": "[encoded data removed]",
            "text/plain": [
              "<Figure size 432x288 with 1 Axes>"
            ]
          },
          "metadata": {
            "tags": [],
            "needs_background": "light"
          }
        }
      ]
    },
    {
      "cell_type": "markdown",
      "metadata": {
        "id": "DN2_CHNldB3N"
      },
      "source": [
        "**Clean Dataset**"
      ]
    },
    {
      "cell_type": "code",
      "metadata": {
        "colab": {
          "base_uri": "https://localhost:8080/",
          "height": 229
        },
        "id": "lMev_-qBaOrC",
        "outputId": "fcb108f6-78fb-4572-d306-3870b758a9d5"
      },
      "source": [
        "nltk.download('stopwords')\n",
        "stemmer = PorterStemmer()\n",
        "words = stopwords.words(\"english\")\n",
        "df['cleaned'] = df['RequirementText'].apply(lambda x: \" \".join([stemmer.stem(i) for i in re.sub(\"[^a-zA-Z]\", \" \", x).split() if i not in words]).lower())\n",
        "df.head()"
      ],
      "execution_count": 5,
      "outputs": [
        {
          "output_type": "stream",
          "text": [
            "[nltk_data] Downloading package stopwords to /root/nltk_data...\n",
            "[nltk_data]   Package stopwords is already up-to-date!\n"
          ],
          "name": "stdout"
        },
        {
          "output_type": "execute_result",
          "data": {
            "text/html": [
              "<div>\n",
              "<style scoped>\n",
              "    .dataframe tbody tr th:only-of-type {\n",
              "        vertical-align: middle;\n",
              "    }\n",
              "\n",
              "    .dataframe tbody tr th {\n",
              "        vertical-align: top;\n",
              "    }\n",
              "\n",
              "    .dataframe thead th {\n",
              "        text-align: right;\n",
              "    }\n",
              "</style>\n",
              "<table border=\"1\" class=\"dataframe\">\n",
              "  <thead>\n",
              "    <tr style=\"text-align: right;\">\n",
              "      <th></th>\n",
              "      <th>RequirementText</th>\n",
              "      <th>class</th>\n",
              "      <th>cleaned</th>\n",
              "    </tr>\n",
              "  </thead>\n",
              "  <tbody>\n",
              "    <tr>\n",
              "      <th>0</th>\n",
              "      <td>The system shall refresh the display every 60 ...</td>\n",
              "      <td>PE</td>\n",
              "      <td>the system shall refresh display everi second</td>\n",
              "    </tr>\n",
              "    <tr>\n",
              "      <th>1</th>\n",
              "      <td>The application shall match the color of the s...</td>\n",
              "      <td>LF</td>\n",
              "      <td>the applic shall match color schema set forth ...</td>\n",
              "    </tr>\n",
              "    <tr>\n",
              "      <th>2</th>\n",
              "      <td>If projected  the data must be readable.  On ...</td>\n",
              "      <td>US</td>\n",
              "      <td>if project data must readabl on x project scre...</td>\n",
              "    </tr>\n",
              "    <tr>\n",
              "      <th>3</th>\n",
              "      <td>The product shall be available during normal ...</td>\n",
              "      <td>A</td>\n",
              "      <td>the product shall avail normal busi hour as lo...</td>\n",
              "    </tr>\n",
              "    <tr>\n",
              "      <th>4</th>\n",
              "      <td>If projected  the data must be understandable...</td>\n",
              "      <td>US</td>\n",
              "      <td>if project data must understand on x project s...</td>\n",
              "    </tr>\n",
              "  </tbody>\n",
              "</table>\n",
              "</div>"
            ],
            "text/plain": [
              "                                     RequirementText  ...                                            cleaned\n",
              "0  The system shall refresh the display every 60 ...  ...      the system shall refresh display everi second\n",
              "1  The application shall match the color of the s...  ...  the applic shall match color schema set forth ...\n",
              "2   If projected  the data must be readable.  On ...  ...  if project data must readabl on x project scre...\n",
              "3   The product shall be available during normal ...  ...  the product shall avail normal busi hour as lo...\n",
              "4   If projected  the data must be understandable...  ...  if project data must understand on x project s...\n",
              "\n",
              "[5 rows x 3 columns]"
            ]
          },
          "metadata": {
            "tags": []
          },
          "execution_count": 5
        }
      ]
    },
    {
      "cell_type": "markdown",
      "metadata": {
        "id": "bCT9ntOmdJQT"
      },
      "source": [
        "**Print Features shape**"
      ]
    },
    {
      "cell_type": "code",
      "metadata": {
        "colab": {
          "base_uri": "https://localhost:8080/"
        },
        "id": "aewEu27taqAZ",
        "outputId": "a334aa69-4664-404b-9194-a883d25cdf81"
      },
      "source": [
        "vectorizer = TfidfVectorizer(min_df= 3, stop_words=\"english\", sublinear_tf=True, norm='l2', ngram_range=(1, 2))\n",
        "final_features = vectorizer.fit_transform(df['cleaned']).toarray()\n",
        "final_features.shape"
      ],
      "execution_count": 6,
      "outputs": [
        {
          "output_type": "execute_result",
          "data": {
            "text/plain": [
              "(625, 734)"
            ]
          },
          "metadata": {
            "tags": []
          },
          "execution_count": 6
        }
      ]
    },
    {
      "cell_type": "markdown",
      "metadata": {
        "id": "dNKnOyKDdTxE"
      },
      "source": [
        "**Split Data and Train**"
      ]
    },
    {
      "cell_type": "code",
      "metadata": {
        "colab": {
          "base_uri": "https://localhost:8080/"
        },
        "id": "KWM3vpnTaxJ7",
        "outputId": "abd23a1c-b349-4c79-f95b-61269dd5752a"
      },
      "source": [
        "#split the dataset into training and testing set \n",
        "X = df['cleaned']\n",
        "Y = df['class']\n",
        "X_train, X_test, y_train, y_test = train_test_split(X, Y, test_size=0.20)\n",
        "\n",
        "# instead of doing these steps one at a time, we can use a pipeline to complete then all at once\n",
        "pipeline = Pipeline([('vect', vectorizer),\n",
        "                     ('chi',  SelectKBest(chi2, k='all')),\n",
        "                     ('clf', KNeighborsClassifier(n_neighbors=5))])\n",
        "\n",
        "# fitting our model and save it in a pickle for later use\n",
        "model = pipeline.fit(X_train, y_train)\n",
        "with open('RandomForest.pickle', 'wb') as f:\n",
        "    pickle.dump(model, f)\n",
        "\n",
        "ytest = np.array(y_test)\n",
        "\n",
        "# confusion matrix and classification report(precision, recall, F1-score)\n",
        "print(classification_report(ytest, model.predict(X_test)))\n",
        "print(confusion_matrix(ytest, model.predict(X_test)))"
      ],
      "execution_count": 7,
      "outputs": [
        {
          "output_type": "stream",
          "text": [
            "              precision    recall  f1-score   support\n",
            "\n",
            "           A       0.67      0.50      0.57         4\n",
            "           F       0.79      0.98      0.88        51\n",
            "          FT       0.00      0.00      0.00         3\n",
            "           L       1.00      0.50      0.67         2\n",
            "          LF       0.75      0.67      0.71         9\n",
            "          MN       0.00      0.00      0.00         3\n",
            "           O       0.60      0.75      0.67        12\n",
            "          PE       0.80      0.67      0.73        12\n",
            "          SC       0.67      1.00      0.80         2\n",
            "          SE       0.60      0.55      0.57        11\n",
            "          US       0.70      0.44      0.54        16\n",
            "\n",
            "    accuracy                           0.73       125\n",
            "   macro avg       0.60      0.55      0.56       125\n",
            "weighted avg       0.70      0.73      0.70       125\n",
            "\n",
            "[[ 2  0  0  0  0  0  2  0  0  0  0]\n",
            " [ 0 50  0  0  0  1  0  0  0  0  0]\n",
            " [ 0  0  0  0  0  0  0  0  0  2  1]\n",
            " [ 0  1  0  1  0  0  0  0  0  0  0]\n",
            " [ 0  1  0  0  6  0  0  0  0  1  1]\n",
            " [ 0  1  1  0  0  0  1  0  0  0  0]\n",
            " [ 0  1  0  0  1  0  9  0  1  0  0]\n",
            " [ 0  4  0  0  0  0  0  8  0  0  0]\n",
            " [ 0  0  0  0  0  0  0  0  2  0  0]\n",
            " [ 1  1  0  0  0  0  2  0  0  6  1]\n",
            " [ 0  4  0  0  1  0  1  2  0  1  7]]\n"
          ],
          "name": "stdout"
        }
      ]
    },
    {
      "cell_type": "code",
      "metadata": {
        "colab": {
          "base_uri": "https://localhost:8080/",
          "height": 283
        },
        "id": "JdlPCGA5GQ2T",
        "outputId": "b6b195c6-cfe6-4b80-dfeb-6a0c4e71e743"
      },
      "source": [
        "from sklearn.metrics import plot_confusion_matrix\n",
        "plot_confusion_matrix(pipeline, X_test, ytest)\n",
        "plt.show()"
      ],
      "execution_count": 8,
      "outputs": [
        {
          "output_type": "display_data",
          "data": {
            "image/png": "[encoded data removed]",
            "text/plain": [
              "<Figure size 432x288 with 2 Axes>"
            ]
          },
          "metadata": {
            "tags": [],
            "needs_background": "light"
          }
        }
      ]
    }
  ]
}